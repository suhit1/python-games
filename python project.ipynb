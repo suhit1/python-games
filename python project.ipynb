{
 "cells": [
  {
   "cell_type": "markdown",
   "metadata": {},
   "source": [
    "## create a valid password"
   ]
  },
  {
   "cell_type": "code",
   "execution_count": 1,
   "metadata": {},
   "outputs": [
    {
     "name": "stdout",
     "output_type": "stream",
     "text": [
      "enter your password123\n",
      "your password must contain uppercase,lowercase,digit,symbol\n",
      "enter your password againsuh1\n",
      "your password must contain uppercase,lowercase,digit,symbol\n",
      "enter your password againsdf@3\n",
      "your password must contain uppercase,lowercase,digit,symbol\n",
      "enter your password againSuf@36\n",
      "your password is ok\n"
     ]
    }
   ],
   "source": [
    "a=str(input('enter your password'))\n",
    "def passw(a):\n",
    "    b=len(a)\n",
    "    global c\n",
    "    c=0\n",
    "    global d\n",
    "    d=0\n",
    "    global e\n",
    "    e=0\n",
    "    global f\n",
    "    f=0\n",
    "    for i in range(0,b):\n",
    "        if a[i]>='A' and a[i]<='Z':\n",
    "            c+=1\n",
    "        elif a[i]>='a' and a[i]<='z':\n",
    "            d+=1\n",
    "        elif a[i]>=' ' and a[i]<='@':\n",
    "            e+=1\n",
    "        elif a[i]>='48' and a[i]<='57':\n",
    "            f+=1\n",
    "        e=e+f\n",
    "    if c>=1 and d>=1 and e>=1:\n",
    "        print(\"your password is ok\")\n",
    "    else:\n",
    "        print('your password must contain uppercase,lowercase,digit,symbol')\n",
    "        g=str(input('enter your password again'))\n",
    "        passw(g)\n",
    "        \n",
    "passw(a)"
   ]
  },
  {
   "cell_type": "markdown",
   "metadata": {},
   "source": [
    "## guess the number"
   ]
  },
  {
   "cell_type": "code",
   "execution_count": 1,
   "metadata": {},
   "outputs": [
    {
     "name": "stdout",
     "output_type": "stream",
     "text": [
      "guess the correct number between 0 to 100\n",
      "enter your namesuhit\n",
      "guess the number ?  12\n",
      "suhit you have 7 attempts left\n",
      "guess the number again45\n",
      "suhit you have 6 attemps left\n",
      "guess the number again39\n",
      "suhit you have 5 attemps left\n",
      "guess the number again79\n",
      "suhit you have 4 attemps left\n",
      "guess the number again23\n",
      "suhit you have 3 attemps left\n",
      "guess the number again19\n",
      "suhit you have 2 attemps left\n",
      "guess the number again29\n",
      "HINT:-try number between 20 and 30\n",
      "Hey suhit you guessed the number in 6 attempt\n"
     ]
    }
   ],
   "source": [
    "a=29\n",
    "print('guess the correct number between 0 to 100')\n",
    "name=str(input('enter your name'))\n",
    "index=7\n",
    "i=0\n",
    "c=0\n",
    "b=int(input('guess the number ?  '))\n",
    "if b==a:\n",
    "    print(\"Hey you guessed the number in 1st attempt, that's great\")\n",
    "else:\n",
    "    print('{} you have {} attempts left'.format(name,index))\n",
    "    while a!=c:\n",
    "        c=int(input('guess the number again'))\n",
    "        index-=1\n",
    "        i+=1\n",
    "        if index<=1:\n",
    "            print(\"HINT:-try number between 20 and 30\")\n",
    "        if a==c:\n",
    "            print('Hey {} you guessed the number in {} attempt'.format(name,i))\n",
    "            break\n",
    "        print('{} you have {} attemps left'.format(name,index))\n",
    "        if index==0:\n",
    "            break\n",
    "if index==0:\n",
    "    print('oops you are out of attempts')"
   ]
  },
  {
   "cell_type": "markdown",
   "metadata": {},
   "source": [
    "## who got more number?"
   ]
  },
  {
   "cell_type": "code",
   "execution_count": 3,
   "metadata": {},
   "outputs": [
    {
     "name": "stdout",
     "output_type": "stream",
     "text": [
      "player1 enter your namesuhit\n",
      "player2 enter your namecomputer\n",
      "RULES:-you have only 5 attemps .The player has to roll the dice 5 times and add all the numbers on dice.out of both the players who got highest sum of dice will won.ALL THE BEST\n",
      "suhit your score is 22 \n",
      "computer your score is 18\n",
      "HENCE\n",
      "suhit won\n"
     ]
    }
   ],
   "source": [
    "import random as r\n",
    "a=str(input('player1 enter your name'))\n",
    "b=str(input('player2 enter your name'))\n",
    "print('RULES:-you have only 5 attemps .The player has to roll the dice 5 times and add all the numbers on dice.out of both the players who got highest sum of dice will won.ALL THE BEST')\n",
    "sum1=0\n",
    "sum2=0\n",
    "for i in range(0,5):\n",
    "    c=r.randrange(1,7)\n",
    "    sum1=sum1+c\n",
    "for i in range(0,5):\n",
    "    d=r.randrange(1,7)\n",
    "    sum2=sum2+d\n",
    "print(\"{} your score is {} \".format(a,sum1))\n",
    "print(\"{} your score is {}\".format(b,sum2))\n",
    "print(\"HENCE\")\n",
    "if sum1>sum2:\n",
    "    print(\"{} won\".format(a))\n",
    "elif sum1==sum2:\n",
    "    print(\"There is a TIE\")\n",
    "else:\n",
    "    print(\"{} won\".format(b))"
   ]
  }
 ],
 "metadata": {
  "kernelspec": {
   "display_name": "Python 3",
   "language": "python",
   "name": "python3"
  },
  "language_info": {
   "codemirror_mode": {
    "name": "ipython",
    "version": 3
   },
   "file_extension": ".py",
   "mimetype": "text/x-python",
   "name": "python",
   "nbconvert_exporter": "python",
   "pygments_lexer": "ipython3",
   "version": "3.7.6"
  }
 },
 "nbformat": 4,
 "nbformat_minor": 4
}
